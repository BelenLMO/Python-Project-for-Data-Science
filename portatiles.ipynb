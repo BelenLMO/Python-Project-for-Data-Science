{
 "cells": [
  {
   "cell_type": "markdown",
   "metadata": {},
   "source": [
    "## Laboratorio práctico: manipulación de datos\n",
    "Tiempo necesario estimado: 30 minutos\n",
    "\n",
    "En este laboratorio, utilizará las habilidades adquiridas en el módulo y abordará los problemas de manejo de datos faltantes, corregirá el tipo de datos del atributo dataframe y ejecutará los procesos de estandarización y normalización de datos en atributos específicos del conjunto de datos.\n",
    "\n"
   ]
  },
  {
   "cell_type": "markdown",
   "metadata": {},
   "source": [
    "### Objetivos\n",
    "Después de completar este laboratorio, usted podrá:\n",
    "\n",
    "Manejar datos faltantes de diferentes maneras\n",
    "\n",
    "\n",
    "Corregir el tipo de datos de diferentes valores de datos según los requisitos\n",
    "\n",
    "\n",
    "Estandarizar y normalizar los atributos de datos apropiados\n",
    "\n",
    "Visualizar los datos como un gráfico de barras agrupado mediante Binning\n",
    "\n",
    "Convertir datos categóricos en variables de indicadores numéricos"
   ]
  },
  {
   "cell_type": "markdown",
   "metadata": {},
   "source": [
    "\n",
    "### Configuración\n",
    "Para este laboratorio, utilizaremos las siguientes bibliotecas:\n",
    "\n",
    "skillsnetwork para descargar el conjunto de datos\n",
    "\n",
    "pandas para administrar los datos\n",
    "\n",
    "numpy para operaciones matemáticas\n",
    "\n",
    "matplotlib para herramientas de gráficos adicionales."
   ]
  },
  {
   "cell_type": "markdown",
   "metadata": {},
   "source": [
    "### Importación de las bibliotecas necesarias\n",
    "\n",
    "Le recomendamos que importe todas las bibliotecas necesarias en un solo lugar (aquí):"
   ]
  },
  {
   "cell_type": "code",
   "execution_count": 15,
   "metadata": {},
   "outputs": [],
   "source": [
    "import numpy as np\n",
    "import pandas as pd\n",
    "import matplotlib.pyplot as plt\n",
    "import seaborn as sns\n",
    "%matplotlib inline"
   ]
  },
  {
   "cell_type": "markdown",
   "metadata": {},
   "source": [
    "Descargue el conjunto de datos actualizado ejecutando la celda a continuación.\n",
    "\n",
    "Las funciones a continuación descargarán el conjunto de datos en su navegador:"
   ]
  },
  {
   "cell_type": "code",
   "execution_count": 5,
   "metadata": {},
   "outputs": [],
   "source": [
    "url = \"https://raw.githubusercontent.com/BelenLMO/Python-Project-for-Data-Science/Practica-manupulacion-de-datos---Precio-ordenador/laptop_pricing_dataset_mod1.csv\""
   ]
  },
  {
   "cell_type": "code",
   "execution_count": 6,
   "metadata": {},
   "outputs": [],
   "source": [
    "df = pd.read_csv(url)"
   ]
  },
  {
   "cell_type": "markdown",
   "metadata": {},
   "source": [
    "Verifique la carga mostrando el resumen del marco de datos usando dataframe.info()"
   ]
  },
  {
   "cell_type": "code",
   "execution_count": 9,
   "metadata": {},
   "outputs": [
    {
     "name": "stdout",
     "output_type": "stream",
     "text": [
      "<class 'pandas.core.frame.DataFrame'>\n",
      "RangeIndex: 238 entries, 0 to 237\n",
      "Data columns (total 13 columns):\n",
      " #   Column          Non-Null Count  Dtype  \n",
      "---  ------          --------------  -----  \n",
      " 0   Unnamed: 0      238 non-null    int64  \n",
      " 1   Manufacturer    238 non-null    object \n",
      " 2   Category        238 non-null    int64  \n",
      " 3   Screen          238 non-null    object \n",
      " 4   GPU             238 non-null    int64  \n",
      " 5   OS              238 non-null    int64  \n",
      " 6   CPU_core        238 non-null    int64  \n",
      " 7   Screen_Size_cm  234 non-null    float64\n",
      " 8   CPU_frequency   238 non-null    float64\n",
      " 9   RAM_GB          238 non-null    int64  \n",
      " 10  Storage_GB_SSD  238 non-null    int64  \n",
      " 11  Weight_kg       233 non-null    float64\n",
      " 12  Price           238 non-null    int64  \n",
      "dtypes: float64(3), int64(8), object(2)\n",
      "memory usage: 24.3+ KB\n"
     ]
    }
   ],
   "source": [
    "df.info()"
   ]
  },
  {
   "cell_type": "code",
   "execution_count": 7,
   "metadata": {},
   "outputs": [
    {
     "data": {
      "text/html": [
       "<div>\n",
       "<style scoped>\n",
       "    .dataframe tbody tr th:only-of-type {\n",
       "        vertical-align: middle;\n",
       "    }\n",
       "\n",
       "    .dataframe tbody tr th {\n",
       "        vertical-align: top;\n",
       "    }\n",
       "\n",
       "    .dataframe thead th {\n",
       "        text-align: right;\n",
       "    }\n",
       "</style>\n",
       "<table border=\"1\" class=\"dataframe\">\n",
       "  <thead>\n",
       "    <tr style=\"text-align: right;\">\n",
       "      <th></th>\n",
       "      <th>Unnamed: 0</th>\n",
       "      <th>Manufacturer</th>\n",
       "      <th>Category</th>\n",
       "      <th>Screen</th>\n",
       "      <th>GPU</th>\n",
       "      <th>OS</th>\n",
       "      <th>CPU_core</th>\n",
       "      <th>Screen_Size_cm</th>\n",
       "      <th>CPU_frequency</th>\n",
       "      <th>RAM_GB</th>\n",
       "      <th>Storage_GB_SSD</th>\n",
       "      <th>Weight_kg</th>\n",
       "      <th>Price</th>\n",
       "    </tr>\n",
       "  </thead>\n",
       "  <tbody>\n",
       "    <tr>\n",
       "      <th>0</th>\n",
       "      <td>0</td>\n",
       "      <td>Acer</td>\n",
       "      <td>4</td>\n",
       "      <td>IPS Panel</td>\n",
       "      <td>2</td>\n",
       "      <td>1</td>\n",
       "      <td>5</td>\n",
       "      <td>35.560</td>\n",
       "      <td>1.6</td>\n",
       "      <td>8</td>\n",
       "      <td>256</td>\n",
       "      <td>1.60</td>\n",
       "      <td>978</td>\n",
       "    </tr>\n",
       "    <tr>\n",
       "      <th>1</th>\n",
       "      <td>1</td>\n",
       "      <td>Dell</td>\n",
       "      <td>3</td>\n",
       "      <td>Full HD</td>\n",
       "      <td>1</td>\n",
       "      <td>1</td>\n",
       "      <td>3</td>\n",
       "      <td>39.624</td>\n",
       "      <td>2.0</td>\n",
       "      <td>4</td>\n",
       "      <td>256</td>\n",
       "      <td>2.20</td>\n",
       "      <td>634</td>\n",
       "    </tr>\n",
       "    <tr>\n",
       "      <th>2</th>\n",
       "      <td>2</td>\n",
       "      <td>Dell</td>\n",
       "      <td>3</td>\n",
       "      <td>Full HD</td>\n",
       "      <td>1</td>\n",
       "      <td>1</td>\n",
       "      <td>7</td>\n",
       "      <td>39.624</td>\n",
       "      <td>2.7</td>\n",
       "      <td>8</td>\n",
       "      <td>256</td>\n",
       "      <td>2.20</td>\n",
       "      <td>946</td>\n",
       "    </tr>\n",
       "    <tr>\n",
       "      <th>3</th>\n",
       "      <td>3</td>\n",
       "      <td>Dell</td>\n",
       "      <td>4</td>\n",
       "      <td>IPS Panel</td>\n",
       "      <td>2</td>\n",
       "      <td>1</td>\n",
       "      <td>5</td>\n",
       "      <td>33.782</td>\n",
       "      <td>1.6</td>\n",
       "      <td>8</td>\n",
       "      <td>128</td>\n",
       "      <td>1.22</td>\n",
       "      <td>1244</td>\n",
       "    </tr>\n",
       "    <tr>\n",
       "      <th>4</th>\n",
       "      <td>4</td>\n",
       "      <td>HP</td>\n",
       "      <td>4</td>\n",
       "      <td>Full HD</td>\n",
       "      <td>2</td>\n",
       "      <td>1</td>\n",
       "      <td>7</td>\n",
       "      <td>39.624</td>\n",
       "      <td>1.8</td>\n",
       "      <td>8</td>\n",
       "      <td>256</td>\n",
       "      <td>1.91</td>\n",
       "      <td>837</td>\n",
       "    </tr>\n",
       "  </tbody>\n",
       "</table>\n",
       "</div>"
      ],
      "text/plain": [
       "   Unnamed: 0 Manufacturer  Category     Screen  GPU  OS  CPU_core  \\\n",
       "0           0         Acer         4  IPS Panel    2   1         5   \n",
       "1           1         Dell         3    Full HD    1   1         3   \n",
       "2           2         Dell         3    Full HD    1   1         7   \n",
       "3           3         Dell         4  IPS Panel    2   1         5   \n",
       "4           4           HP         4    Full HD    2   1         7   \n",
       "\n",
       "   Screen_Size_cm  CPU_frequency  RAM_GB  Storage_GB_SSD  Weight_kg  Price  \n",
       "0          35.560            1.6       8             256       1.60    978  \n",
       "1          39.624            2.0       4             256       2.20    634  \n",
       "2          39.624            2.7       8             256       2.20    946  \n",
       "3          33.782            1.6       8             128       1.22   1244  \n",
       "4          39.624            1.8       8             256       1.91    837  "
      ]
     },
     "execution_count": 7,
     "metadata": {},
     "output_type": "execute_result"
    }
   ],
   "source": [
    "df.head()"
   ]
  },
  {
   "cell_type": "markdown",
   "metadata": {},
   "source": [
    "Tenga en cuenta que podemos actualizar la columna Screen_Size_cm de modo que todos los valores se redondeen a los 2 decimales más cercanos utilizando numpy.round()"
   ]
  },
  {
   "cell_type": "code",
   "execution_count": 10,
   "metadata": {},
   "outputs": [
    {
     "data": {
      "text/html": [
       "<div>\n",
       "<style scoped>\n",
       "    .dataframe tbody tr th:only-of-type {\n",
       "        vertical-align: middle;\n",
       "    }\n",
       "\n",
       "    .dataframe tbody tr th {\n",
       "        vertical-align: top;\n",
       "    }\n",
       "\n",
       "    .dataframe thead th {\n",
       "        text-align: right;\n",
       "    }\n",
       "</style>\n",
       "<table border=\"1\" class=\"dataframe\">\n",
       "  <thead>\n",
       "    <tr style=\"text-align: right;\">\n",
       "      <th></th>\n",
       "      <th>Unnamed: 0</th>\n",
       "      <th>Manufacturer</th>\n",
       "      <th>Category</th>\n",
       "      <th>Screen</th>\n",
       "      <th>GPU</th>\n",
       "      <th>OS</th>\n",
       "      <th>CPU_core</th>\n",
       "      <th>Screen_Size_cm</th>\n",
       "      <th>CPU_frequency</th>\n",
       "      <th>RAM_GB</th>\n",
       "      <th>Storage_GB_SSD</th>\n",
       "      <th>Weight_kg</th>\n",
       "      <th>Price</th>\n",
       "    </tr>\n",
       "  </thead>\n",
       "  <tbody>\n",
       "    <tr>\n",
       "      <th>0</th>\n",
       "      <td>0</td>\n",
       "      <td>Acer</td>\n",
       "      <td>4</td>\n",
       "      <td>IPS Panel</td>\n",
       "      <td>2</td>\n",
       "      <td>1</td>\n",
       "      <td>5</td>\n",
       "      <td>35.56</td>\n",
       "      <td>1.6</td>\n",
       "      <td>8</td>\n",
       "      <td>256</td>\n",
       "      <td>1.60</td>\n",
       "      <td>978</td>\n",
       "    </tr>\n",
       "    <tr>\n",
       "      <th>1</th>\n",
       "      <td>1</td>\n",
       "      <td>Dell</td>\n",
       "      <td>3</td>\n",
       "      <td>Full HD</td>\n",
       "      <td>1</td>\n",
       "      <td>1</td>\n",
       "      <td>3</td>\n",
       "      <td>39.62</td>\n",
       "      <td>2.0</td>\n",
       "      <td>4</td>\n",
       "      <td>256</td>\n",
       "      <td>2.20</td>\n",
       "      <td>634</td>\n",
       "    </tr>\n",
       "    <tr>\n",
       "      <th>2</th>\n",
       "      <td>2</td>\n",
       "      <td>Dell</td>\n",
       "      <td>3</td>\n",
       "      <td>Full HD</td>\n",
       "      <td>1</td>\n",
       "      <td>1</td>\n",
       "      <td>7</td>\n",
       "      <td>39.62</td>\n",
       "      <td>2.7</td>\n",
       "      <td>8</td>\n",
       "      <td>256</td>\n",
       "      <td>2.20</td>\n",
       "      <td>946</td>\n",
       "    </tr>\n",
       "    <tr>\n",
       "      <th>3</th>\n",
       "      <td>3</td>\n",
       "      <td>Dell</td>\n",
       "      <td>4</td>\n",
       "      <td>IPS Panel</td>\n",
       "      <td>2</td>\n",
       "      <td>1</td>\n",
       "      <td>5</td>\n",
       "      <td>33.78</td>\n",
       "      <td>1.6</td>\n",
       "      <td>8</td>\n",
       "      <td>128</td>\n",
       "      <td>1.22</td>\n",
       "      <td>1244</td>\n",
       "    </tr>\n",
       "    <tr>\n",
       "      <th>4</th>\n",
       "      <td>4</td>\n",
       "      <td>HP</td>\n",
       "      <td>4</td>\n",
       "      <td>Full HD</td>\n",
       "      <td>2</td>\n",
       "      <td>1</td>\n",
       "      <td>7</td>\n",
       "      <td>39.62</td>\n",
       "      <td>1.8</td>\n",
       "      <td>8</td>\n",
       "      <td>256</td>\n",
       "      <td>1.91</td>\n",
       "      <td>837</td>\n",
       "    </tr>\n",
       "  </tbody>\n",
       "</table>\n",
       "</div>"
      ],
      "text/plain": [
       "   Unnamed: 0 Manufacturer  Category     Screen  GPU  OS  CPU_core  \\\n",
       "0           0         Acer         4  IPS Panel    2   1         5   \n",
       "1           1         Dell         3    Full HD    1   1         3   \n",
       "2           2         Dell         3    Full HD    1   1         7   \n",
       "3           3         Dell         4  IPS Panel    2   1         5   \n",
       "4           4           HP         4    Full HD    2   1         7   \n",
       "\n",
       "   Screen_Size_cm  CPU_frequency  RAM_GB  Storage_GB_SSD  Weight_kg  Price  \n",
       "0           35.56            1.6       8             256       1.60    978  \n",
       "1           39.62            2.0       4             256       2.20    634  \n",
       "2           39.62            2.7       8             256       2.20    946  \n",
       "3           33.78            1.6       8             128       1.22   1244  \n",
       "4           39.62            1.8       8             256       1.91    837  "
      ]
     },
     "execution_count": 10,
     "metadata": {},
     "output_type": "execute_result"
    }
   ],
   "source": [
    "df[['Screen_Size_cm']] = np.round(df[['Screen_Size_cm']],2)\n",
    "df.head()"
   ]
  },
  {
   "cell_type": "markdown",
   "metadata": {},
   "source": [
    "## Tarea 1\n",
    "## Evaluar el conjunto de datos para detectar datos faltantes\n",
    "Los datos faltantes se convirtieron por última vez de '?' a numpy.NaN. Pandas utiliza los valores NaN y Null de manera intercambiable. Esto significa que puede identificar las entradas que tienen valores Null. Escriba un código que identifique qué columnas tienen datos faltantes."
   ]
  },
  {
   "cell_type": "code",
   "execution_count": 16,
   "metadata": {},
   "outputs": [
    {
     "data": {
      "image/png": "[encoded data removed]",
      "text/plain": [
       "<Figure size 640x480 with 2 Axes>"
      ]
     },
     "metadata": {},
     "output_type": "display_data"
    }
   ],
   "source": [
    "#\"Devuelve True cuando el dato es NULL, Mostramos en color claro los Nulos \n",
    "df.isnull()\n",
    "sns.heatmap(df.isnull())\n",
    "plt.show()"
   ]
  },
  {
   "cell_type": "code",
   "execution_count": 17,
   "metadata": {},
   "outputs": [
    {
     "name": "stdout",
     "output_type": "stream",
     "text": [
      "   Unnamed: 0  Manufacturer  Category  Screen    GPU     OS  CPU_core  \\\n",
      "0       False         False     False   False  False  False     False   \n",
      "1       False         False     False   False  False  False     False   \n",
      "2       False         False     False   False  False  False     False   \n",
      "3       False         False     False   False  False  False     False   \n",
      "4       False         False     False   False  False  False     False   \n",
      "\n",
      "   Screen_Size_cm  CPU_frequency  RAM_GB  Storage_GB_SSD  Weight_kg  Price  \n",
      "0           False          False   False           False      False  False  \n",
      "1           False          False   False           False      False  False  \n",
      "2           False          False   False           False      False  False  \n",
      "3           False          False   False           False      False  False  \n",
      "4           False          False   False           False      False  False  \n",
      "Unnamed: 0\n",
      "Unnamed: 0\n",
      "False    238\n",
      "Name: count, dtype: int64\n",
      "\n",
      "Manufacturer\n",
      "Manufacturer\n",
      "False    238\n",
      "Name: count, dtype: int64\n",
      "\n",
      "Category\n",
      "Category\n",
      "False    238\n",
      "Name: count, dtype: int64\n",
      "\n",
      "Screen\n",
      "Screen\n",
      "False    238\n",
      "Name: count, dtype: int64\n",
      "\n",
      "GPU\n",
      "GPU\n",
      "False    238\n",
      "Name: count, dtype: int64\n",
      "\n",
      "OS\n",
      "OS\n",
      "False    238\n",
      "Name: count, dtype: int64\n",
      "\n",
      "CPU_core\n",
      "CPU_core\n",
      "False    238\n",
      "Name: count, dtype: int64\n",
      "\n",
      "Screen_Size_cm\n",
      "Screen_Size_cm\n",
      "False    234\n",
      "True       4\n",
      "Name: count, dtype: int64\n",
      "\n",
      "CPU_frequency\n",
      "CPU_frequency\n",
      "False    238\n",
      "Name: count, dtype: int64\n",
      "\n",
      "RAM_GB\n",
      "RAM_GB\n",
      "False    238\n",
      "Name: count, dtype: int64\n",
      "\n",
      "Storage_GB_SSD\n",
      "Storage_GB_SSD\n",
      "False    238\n",
      "Name: count, dtype: int64\n",
      "\n",
      "Weight_kg\n",
      "Weight_kg\n",
      "False    233\n",
      "True       5\n",
      "Name: count, dtype: int64\n",
      "\n",
      "Price\n",
      "Price\n",
      "False    238\n",
      "Name: count, dtype: int64\n",
      "\n"
     ]
    }
   ],
   "source": [
    "missing_data = df.isnull()\n",
    "print(missing_data.head())\n",
    "for column in missing_data.columns.values.tolist():\n",
    "    print(column)\n",
    "    print (missing_data[column].value_counts())\n",
    "    print(\"\")  "
   ]
  },
  {
   "cell_type": "code",
   "execution_count": 18,
   "metadata": {},
   "outputs": [
    {
     "name": "stdout",
     "output_type": "stream",
     "text": [
      "Valores perdidos en cada columna:\n",
      " Unnamed: 0        0\n",
      "Manufacturer      0\n",
      "Category          0\n",
      "Screen            0\n",
      "GPU               0\n",
      "OS                0\n",
      "CPU_core          0\n",
      "Screen_Size_cm    4\n",
      "CPU_frequency     0\n",
      "RAM_GB            0\n",
      "Storage_GB_SSD    0\n",
      "Weight_kg         5\n",
      "Price             0\n",
      "dtype: int64\n"
     ]
    }
   ],
   "source": [
    "# Verificar valores perdidos en el dataframe\n",
    "valores_perdidos = df.isnull().sum()\n",
    "print(\"Valores perdidos en cada columna:\\n\", valores_perdidos)"
   ]
  },
  {
   "cell_type": "markdown",
   "metadata": {},
   "source": [
    "### Reemplazar con media\n",
    "Los valores faltantes en los atributos que tienen datos continuos se reemplazan mejor utilizando el valor medio. Observamos que los valores en el atributo \"Peso_kg\" son de naturaleza continua y faltan algunos valores. Por lo tanto, escriba un código para reemplazar los valores faltantes de peso con el valor promedio del atributo."
   ]
  },
  {
   "cell_type": "code",
   "execution_count": 21,
   "metadata": {},
   "outputs": [],
   "source": [
    "# replacing missing data with mean\n",
    "avg_peso=df['Weight_kg'].astype('float').mean(axis=0)\n",
    "df[\"Weight_kg\"]=df[\"Weight_kg\"].replace(np.nan, avg_peso)"
   ]
  },
  {
   "cell_type": "markdown",
   "metadata": {},
   "source": [
    "### Reemplazar con el valor más frecuente\n",
    "Los valores faltantes en los atributos que tienen datos categóricos se reemplazan mejor utilizando el valor más frecuente. Observamos que los valores en el atributo \"Screen_Size_cm\" son de naturaleza categórica y faltan algunos valores. Por lo tanto, escriba un código para reemplazar los valores faltantes de Screen Size con el valor más frecuente del atributo."
   ]
  },
  {
   "cell_type": "code",
   "execution_count": 22,
   "metadata": {},
   "outputs": [],
   "source": [
    "# replacing missing data with mode\n",
    "tamaño = df['Screen_Size_cm'].value_counts().idxmax()\n",
    "df[\"Screen_Size_cm\"]=df[\"Screen_Size_cm\"].replace(np.nan, tamaño)"
   ]
  },
  {
   "cell_type": "markdown",
   "metadata": {},
   "source": [
    "Comprobamos que ya no tenemos los valores nulos:"
   ]
  },
  {
   "cell_type": "code",
   "execution_count": 23,
   "metadata": {},
   "outputs": [
    {
     "name": "stdout",
     "output_type": "stream",
     "text": [
      "Valores perdidos en cada columna:\n",
      " Unnamed: 0        0\n",
      "Manufacturer      0\n",
      "Category          0\n",
      "Screen            0\n",
      "GPU               0\n",
      "OS                0\n",
      "CPU_core          0\n",
      "Screen_Size_cm    0\n",
      "CPU_frequency     0\n",
      "RAM_GB            0\n",
      "Storage_GB_SSD    0\n",
      "Weight_kg         0\n",
      "Price             0\n",
      "dtype: int64\n"
     ]
    }
   ],
   "source": [
    "valores_perdidos = df.isnull().sum()\n",
    "print(\"Valores perdidos en cada columna:\\n\", valores_perdidos)"
   ]
  },
  {
   "cell_type": "markdown",
   "metadata": {},
   "source": [
    "## Tarea 3\n",
    "\n",
    "### Estandarización de datos\n",
    "\n",
    "El valor de Screen_size suele tener una unidad estándar de pulgadas. Utilice las unidades de conversión mencionadas a continuación y escriba un código para modificar las columnas del marco de datos en consecuencia. Actualice también su nombre.\n",
    "\n",
    "1 pulgada = 2,54 cm\n"
   ]
  },
  {
   "cell_type": "code",
   "execution_count": 25,
   "metadata": {},
   "outputs": [],
   "source": [
    "# Data standardization: convert screen size from cm to inch\n",
    "df[\"Screen_Size_cm\"] = df[\"Screen_Size_cm\"]/2.54\n",
    "df.rename(columns={'Screen_Size_cm':'Screen_Size_inch'}, inplace=True)"
   ]
  },
  {
   "cell_type": "markdown",
   "metadata": {},
   "source": [
    "### Normalización de datos\n",
    "\n",
    "A menudo es necesario normalizar un atributo de datos continuo. Escriba un código para normalizar el atributo \"CPU_frequency\" con respecto al valor máximo disponible en el conjunto de datos."
   ]
  },
  {
   "cell_type": "code",
   "execution_count": 26,
   "metadata": {},
   "outputs": [],
   "source": [
    "df['CPU_frequency']=df['CPU_frequency']/df['CPU_frequency'].max()"
   ]
  },
  {
   "cell_type": "markdown",
   "metadata": {},
   "source": [
    "## Tarea 4\n",
    "\n",
    "### Binning\n",
    "\n",
    "Binning es un proceso de creación de un atributo categórico que divide los valores de datos continuos en una cantidad específica de grupos. En este caso, escriba un código para crear 3 bins para el atributo \"Precio\". Estos bins se denominarían \"Bajo\", \"Medio\" y \"Alto\". El nuevo atributo se denominará \"Price-binned\"."
   ]
  },
  {
   "cell_type": "code",
   "execution_count": 28,
   "metadata": {},
   "outputs": [],
   "source": [
    "bins= np.linspace(min(df['Price']),max(df['Price']),4)\n",
    "group_names=['Low','Medium','High']\n",
    "df['Price-binned']=pd.cut(df['Price'], bins, labels=group_names, include_lowest=True)"
   ]
  },
  {
   "cell_type": "markdown",
   "metadata": {},
   "source": [
    "Además, trace el gráfico de barras de estos contenedores."
   ]
  },
  {
   "cell_type": "code",
   "execution_count": 30,
   "metadata": {},
   "outputs": [
    {
     "data": {
      "image/png": "[encoded data removed]",
      "text/plain": [
       "<Figure size 640x480 with 1 Axes>"
      ]
     },
     "metadata": {},
     "output_type": "display_data"
    }
   ],
   "source": [
    "plt.bar(group_names, df[\"Price-binned\"].value_counts())\n",
    "plt.xlabel(\"Price\")\n",
    "plt.ylabel(\"count\")\n",
    "plt.title(\"Price bins\")\n",
    "plt.show()"
   ]
  },
  {
   "cell_type": "markdown",
   "metadata": {},
   "source": [
    "### Tarea 5\n",
    "\n",
    "Variables indicadoras\n",
    "\n",
    "Convierta el atributo \"Pantalla\" del conjunto de datos en dos variables indicadoras: \"Pantalla-IPS_panel\" y \"Pantalla-Full_HD\". Luego, elimine el atributo \"Pantalla\" del conjunto de datos."
   ]
  },
  {
   "cell_type": "code",
   "execution_count": 31,
   "metadata": {},
   "outputs": [],
   "source": [
    "dummy_variable_1 = pd.get_dummies(df[\"Screen\"])\n",
    "dummy_variable_1.rename(columns={'IPS Panel':'Screen-IPS_panel', 'Full HD':'Screen-Full_HD'}, inplace=True)\n",
    "df = pd.concat([df, dummy_variable_1], axis=1)\n",
    "\n",
    "# drop original column \"Screen\" from \"df\"\n",
    "df.drop(\"Screen\", axis = 1, inplace=True)"
   ]
  },
  {
   "cell_type": "code",
   "execution_count": null,
   "metadata": {},
   "outputs": [],
   "source": []
  }
 ],
 "metadata": {
  "kernelspec": {
   "display_name": "base",
   "language": "python",
   "name": "python3"
  },
  "language_info": {
   "codemirror_mode": {
    "name": "ipython",
    "version": 3
   },
   "file_extension": ".py",
   "mimetype": "text/x-python",
   "name": "python",
   "nbconvert_exporter": "python",
   "pygments_lexer": "ipython3",
   "version": "3.12.4"
  }
 },
 "nbformat": 4,
 "nbformat_minor": 2
}
